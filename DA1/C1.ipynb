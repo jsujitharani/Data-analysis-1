{
 "cells": [
  {
   "cell_type": "code",
   "execution_count": 1,
   "id": "e462c2d3-11ee-4c0d-a9bb-0901ea25137f",
   "metadata": {},
   "outputs": [],
   "source": [
    "import numpy as np\n",
    "import pandas as pd"
   ]
  },
  {
   "cell_type": "code",
   "execution_count": 2,
   "id": "4b5b4f05-efa0-47b9-8f8d-11d4f2566f2c",
   "metadata": {},
   "outputs": [],
   "source": [
    "#1) The memory usage of the data is around 6.1 mb.How can we reduce the memory usage of the data set?"
   ]
  },
  {
   "cell_type": "code",
   "execution_count": 3,
   "id": "5d1bd015-6814-4fc6-b1d4-1b0c7700b39d",
   "metadata": {},
   "outputs": [],
   "source": [
    "data=pd.read_csv(r\"C:\\Users\\sujit\\Downloads\\newautos.csv\", encoding_errors= 'replace')"
   ]
  },
  {
   "cell_type": "code",
   "execution_count": 10,
   "id": "ff4bb087-6b44-4b5b-a88f-79ca2ecca4d2",
   "metadata": {},
   "outputs": [
    {
     "name": "stdout",
     "output_type": "stream",
     "text": [
      "<class 'pandas.core.frame.DataFrame'>\n",
      "RangeIndex: 371528 entries, 0 to 371527\n",
      "Data columns (total 21 columns):\n",
      " #   Column               Non-Null Count   Dtype \n",
      "---  ------               --------------   ----- \n",
      " 0   Unnamed: 0           371528 non-null  int64 \n",
      " 1   dateCrawled          371528 non-null  object\n",
      " 2   name                 371528 non-null  object\n",
      " 3   seller               371528 non-null  object\n",
      " 4   offerType            371528 non-null  object\n",
      " 5   price                371528 non-null  int64 \n",
      " 6   abtest               371528 non-null  object\n",
      " 7   vehicleType          371528 non-null  object\n",
      " 8   yearOfRegistration   371528 non-null  int64 \n",
      " 9   gearbox              371528 non-null  object\n",
      " 10  powerPS              371528 non-null  int64 \n",
      " 11  model                371528 non-null  object\n",
      " 12  kilometer            371528 non-null  int64 \n",
      " 13  monthOfRegistration  371528 non-null  int64 \n",
      " 14  fuelType             371528 non-null  object\n",
      " 15  brand                371528 non-null  object\n",
      " 16  notRepairedDamage    299468 non-null  object\n",
      " 17  dateCreated          371528 non-null  object\n",
      " 18  nrOfPictures         371528 non-null  int64 \n",
      " 19  postalCode           371528 non-null  int64 \n",
      " 20  lastSeen             371528 non-null  object\n",
      "dtypes: int64(8), object(13)\n",
      "memory usage: 59.5+ MB\n"
     ]
    }
   ],
   "source": [
    "data.info()"
   ]
  },
  {
   "cell_type": "code",
   "execution_count": null,
   "id": "d22acfa0-25df-4153-84fd-3256d84254f8",
   "metadata": {},
   "outputs": [],
   "source": []
  },
  {
   "cell_type": "code",
   "execution_count": 4,
   "id": "1418a245-b890-4d8a-9cf8-9a22760d704b",
   "metadata": {},
   "outputs": [],
   "source": [
    "datac=data.copy()"
   ]
  },
  {
   "cell_type": "code",
   "execution_count": 7,
   "id": "b22c838b-e954-468a-8bb1-2598371a54a1",
   "metadata": {},
   "outputs": [],
   "source": [
    "datac.drop([\"Unnamed: 0\",\"dateCrawled\",\"nrOfPictures\",\"lastSeen\",\"notRepairedDamage\"],axis=1,inplace=True)"
   ]
  },
  {
   "cell_type": "code",
   "execution_count": 8,
   "id": "0f8891aa-da90-49fe-b97f-831d32f9adad",
   "metadata": {},
   "outputs": [],
   "source": [
    "datac.to_csv(r\"C:\\Users\\sujit\\Downloads\\newautos1.csv\")"
   ]
  },
  {
   "cell_type": "code",
   "execution_count": 16,
   "id": "c8b045e5-93a1-4b77-9a71-ba6f8116143d",
   "metadata": {},
   "outputs": [],
   "source": [
    "datac=datac.astype({\"yearOfRegistration\":\"int32\",\"monthOfRegistration\":\"int16\"})"
   ]
  },
  {
   "cell_type": "code",
   "execution_count": 17,
   "id": "4129ff26-a425-447e-9147-878b886b23d8",
   "metadata": {},
   "outputs": [
    {
     "name": "stdout",
     "output_type": "stream",
     "text": [
      "<class 'pandas.core.frame.DataFrame'>\n",
      "RangeIndex: 371528 entries, 0 to 371527\n",
      "Data columns (total 16 columns):\n",
      " #   Column               Non-Null Count   Dtype \n",
      "---  ------               --------------   ----- \n",
      " 0   name                 371528 non-null  object\n",
      " 1   seller               371528 non-null  object\n",
      " 2   offerType            371528 non-null  object\n",
      " 3   price                371528 non-null  int64 \n",
      " 4   abtest               371528 non-null  object\n",
      " 5   vehicleType          371528 non-null  object\n",
      " 6   yearOfRegistration   371528 non-null  int32 \n",
      " 7   gearbox              371528 non-null  object\n",
      " 8   powerPS              371528 non-null  int64 \n",
      " 9   model                371528 non-null  object\n",
      " 10  kilometer            371528 non-null  int64 \n",
      " 11  monthOfRegistration  371528 non-null  int16 \n",
      " 12  fuelType             371528 non-null  object\n",
      " 13  brand                371528 non-null  object\n",
      " 14  dateCreated          371528 non-null  object\n",
      " 15  postalCode           371528 non-null  int64 \n",
      "dtypes: int16(1), int32(1), int64(4), object(10)\n",
      "memory usage: 41.8+ MB\n"
     ]
    }
   ],
   "source": [
    "datac.info()"
   ]
  },
  {
   "cell_type": "code",
   "execution_count": null,
   "id": "a2dbfa2e-5782-49c5-874d-eedf3875a401",
   "metadata": {},
   "outputs": [],
   "source": []
  }
 ],
 "metadata": {
  "kernelspec": {
   "display_name": "Python 3 (ipykernel)",
   "language": "python",
   "name": "python3"
  },
  "language_info": {
   "codemirror_mode": {
    "name": "ipython",
    "version": 3
   },
   "file_extension": ".py",
   "mimetype": "text/x-python",
   "name": "python",
   "nbconvert_exporter": "python",
   "pygments_lexer": "ipython3",
   "version": "3.11.4"
  }
 },
 "nbformat": 4,
 "nbformat_minor": 5
}
